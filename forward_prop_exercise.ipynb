{
  "cells": [
    {
      "cell_type": "markdown",
      "metadata": {
        "id": "view-in-github",
        "colab_type": "text"
      },
      "source": [
        "<a href=\"https://colab.research.google.com/github/ivaniseda/forward-prop-exercise/blob/main/forward_prop_exercise.ipynb\" target=\"_parent\"><img src=\"https://colab.research.google.com/assets/colab-badge.svg\" alt=\"Open In Colab\"/></a>"
      ]
    },
    {
      "cell_type": "markdown",
      "id": "450029f9",
      "metadata": {
        "id": "450029f9"
      },
      "source": [
        "## Problem Setup\n",
        "We will implement a simple neural network with:\n",
        "- Input layer of size `n_x`\n",
        "- One hidden layer of size `n_h` with ReLU activation\n",
        "- Output layer with sigmoid activation for binary classification.\n",
        "\n",
        "### You are given:\n",
        "- Input data `X` of shape `(n_x, m)`\n",
        "- Weight matrices `W1`, `W2`\n",
        "- Bias vectors `b1`, `b2`\n",
        "\n",
        "---\n",
        "\n",
        "### 🧠 Your Task\n",
        "Complete the function `forward_propagation(X, W1, b1, W2, b2)` by filling in the missing lines of code.\n",
        "\n",
        "Look for the comments marked with `# 👉 Your code here`."
      ]
    },
    {
      "cell_type": "markdown",
      "id": "12d1cae2",
      "metadata": {
        "id": "12d1cae2"
      },
      "source": [
        "# Exercise: Implement Forward Propagation\n",
        "\n",
        "In this exercise, you'll implement the **forward propagation** for a simple 2-layer neural network."
      ]
    },
    {
      "cell_type": "code",
      "execution_count": null,
      "id": "de08de9f",
      "metadata": {
        "id": "de08de9f"
      },
      "outputs": [],
      "source": [
        "import numpy as np\n",
        "\n",
        "def relu(Z):\n",
        "    return np.maximum(0, Z)\n",
        "\n",
        "def sigmoid(Z):\n",
        "    return 1 / (1 + np.exp(-Z))"
      ]
    },
    {
      "cell_type": "code",
      "execution_count": null,
      "id": "6880341c",
      "metadata": {
        "id": "6880341c"
      },
      "outputs": [],
      "source": [
        "def forward_propagation(X, W1, b1, W2, b2):\n",
        "    \"\"\"Performs forward propagation for a 2-layer neural network.\"\"\"\n",
        "    # 👉 Your code here: Compute Z1\n",
        "    Z1 = None\n",
        "\n",
        "    # 👉 Your code here: Apply ReLU activation\n",
        "    A1 = None\n",
        "\n",
        "    # 👉 Your code here: Compute Z2\n",
        "    Z2 = None\n",
        "\n",
        "    # 👉 Your code here: Apply sigmoid activation\n",
        "    A2 = None\n",
        "\n",
        "    return A2"
      ]
    },
    {
      "cell_type": "markdown",
      "source": [
        "# Solution\n",
        "This cell contains the solution to the forward propagation exercise."
      ],
      "metadata": {
        "id": "FpgXCjJhW_eX"
      },
      "id": "FpgXCjJhW_eX"
    },
    {
      "cell_type": "code",
      "execution_count": null,
      "id": "8f7affa3",
      "metadata": {
        "id": "8f7affa3"
      },
      "outputs": [],
      "source": [
        "# ✅ Run this test to verify correctness of the solution\n",
        "def test_forward_propagation():\n",
        "    import numpy as np\n",
        "    np.random.seed(1)\n",
        "    X = np.random.randn(3,2)\n",
        "    W1 = np.random.randn(4,3)\n",
        "    b1 = np.zeros((4,1))\n",
        "    W2 = np.random.randn(1,4)\n",
        "    b2 = np.zeros((1,1))\n",
        "\n",
        "    A2 = forward_propagation(X, W1, b1, W2, b2)\n",
        "\n",
        "    # Convert expected_output to a NumPy array\n",
        "    expected_output = np.array([[0.35928398, 0.99469014]])\n",
        "    assert isinstance(A2, np.ndarray), \"❌ Output is not a NumPy array\"\n",
        "    assert A2.shape == expected_output.shape, f\"❌ Output shape mismatch. Expected {expected_output.shape}, got {A2.shape}\"\n",
        "    assert np.allclose(A2, expected_output, atol=1e-4), f\"❌ Output values incorrect. Expected {expected_output}, got {A2}\"\n",
        "    print(\"✅ Solution test passed!\")\n",
        "\n",
        "test_forward_propagation()"
      ]
    },
    {
      "cell_type": "markdown",
      "source": [
        "\n",
        "# Notes\n",
        "- The solution follows the standard forward propagation steps for a 2-layer neural network.\n",
        "- We first compute the linear transformation (Z) for each layer and then apply the activation function.\n",
        "- ReLU is used for the hidden layer, and sigmoid is used for the output layer (for binary classification).\n",
        "- Matrix operations (dot product) are used for efficiency.\n",
        "- The output A2 represents the predictions of the network.\n",
        "\n",
        "# **Important considerations for learners:**\n",
        "- Understanding the dimensions of the matrices and vectors involved is crucial.\n",
        "- The activation functions introduce non-linearity to the model, allowing it to learn complex patterns.\n",
        "- Forward propagation is the first step in training a neural network. It's followed by backpropagation to update the weights and biases."
      ],
      "metadata": {
        "id": "8sRY4kTxXIfs"
      },
      "id": "8sRY4kTxXIfs"
    },
    {
      "cell_type": "code",
      "source": [
        "def forward_propagation(X, W1, b1, W2, b2):\n",
        "    \"\"\"Performs forward propagation for a 2-layer neural network.\"\"\"\n",
        "    # Compute Z1\n",
        "    Z1 = np.dot(W1, X) + b1\n",
        "\n",
        "    # Apply ReLU activation\n",
        "    A1 = relu(Z1)\n",
        "\n",
        "    # Compute Z2\n",
        "    Z2 = np.dot(W2, A1) + b2\n",
        "\n",
        "    # Apply sigmoid activation\n",
        "    A2 = sigmoid(Z2)\n",
        "\n",
        "    return A2"
      ],
      "metadata": {
        "id": "J-pChy5NXDr5"
      },
      "id": "J-pChy5NXDr5",
      "execution_count": null,
      "outputs": []
    }
  ],
  "metadata": {
    "colab": {
      "provenance": [],
      "include_colab_link": true
    }
  },
  "nbformat": 4,
  "nbformat_minor": 5
}